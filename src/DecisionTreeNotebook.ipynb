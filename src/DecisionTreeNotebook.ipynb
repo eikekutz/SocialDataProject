{
 "cells": [
  {
   "cell_type": "markdown",
   "metadata": {},
   "source": [
    "## Imports"
   ]
  },
  {
   "cell_type": "code",
   "execution_count": 1,
   "metadata": {
    "collapsed": true
   },
   "outputs": [],
   "source": [
    "import pandas as pd\n",
    "from tqdm import tqdm\n",
    "import numpy as np\n",
    "from sklearn.model_selection import train_test_split\n",
    "from sklearn.tree import DecisionTreeClassifier\n",
    "import json"
   ]
  },
  {
   "cell_type": "markdown",
   "metadata": {},
   "source": [
    "## Data Extraction"
   ]
  },
  {
   "cell_type": "code",
   "execution_count": 2,
   "metadata": {},
   "outputs": [
    {
     "name": "stdout",
     "output_type": "stream",
     "text": [
      "201601-citibike-tripdata.csv\n",
      "201602-citibike-tripdata.csv\n",
      "201603-citibike-tripdata.csv\n",
      "201604-citibike-tripdata.csv\n",
      "201605-citibike-tripdata.csv\n",
      "201606-citibike-tripdata.csv\n",
      "201607-citibike-tripdata.csv\n",
      "201608-citibike-tripdata.csv\n",
      "201609-citibike-tripdata.csv\n",
      "201610-citibike-tripdata.csv\n",
      "201611-citibike-tripdata.csv\n",
      "201612-citibike-tripdata.csv\n"
     ]
    }
   ],
   "source": [
    "def getDataByYear(year):\n",
    "    name=\"\"\n",
    "    df=[]\n",
    "    \n",
    "    for k in range(1,13):\n",
    "        if k<10:\n",
    "            name = str(year)+\"0\"+str(k)\n",
    "        else:\n",
    "            name = str(year)+\"\"+str(k)\n",
    "        name +=\"-citibike-tripdata.csv\"\n",
    "        \n",
    "        df.append(pd.read_csv(name))\n",
    "        #set columns to lower case\n",
    "        df[k-1].columns = map(str.lower, df[k-1].columns)\n",
    "        #\n",
    "        df[k-1].columns = [x.replace(\" \",\"\") for x in list(df[k-1].columns)]\n",
    "        df[k-1][\"starttime\"] = pd.to_datetime(df[k-1][\"starttime\"], infer_datetime_format=True)\n",
    "        df[k-1][\"stoptime\"] = pd.to_datetime(df[k-1][\"stoptime\"], infer_datetime_format=True)\n",
    "        print(name)\n",
    "\n",
    "    return pd.concat(df,ignore_index=True)\n",
    "\n",
    "df2016 = getDataByYear(2016)"
   ]
  },
  {
   "cell_type": "code",
   "execution_count": 3,
   "metadata": {},
   "outputs": [
    {
     "name": "stderr",
     "output_type": "stream",
     "text": [
      "100%|██████████| 13845655/13845655 [3:15:17<00:00, 1181.61it/s]  \n"
     ]
    }
   ],
   "source": [
    "# We extract the hour of started trips, hour of ended trips and the day of the week\n",
    "\n",
    "list_of_starthours, list_of_stophours, list_of_weekdays = np.zeros(len(df2016)), np.zeros(len(df2016)), np.zeros(len(df2016))\n",
    "\n",
    "for i in tqdm(range(len(df2016))):\n",
    "    list_of_starthours[i] = df2016.iloc[i].starttime.hour\n",
    "    list_of_stophours[i] = df2016.iloc[i].stoptime.hour\n",
    "    list_of_weekdays[i] = df2016.iloc[i].starttime.weekday()\n",
    "    \n",
    "    \n",
    "# We insert the extra columns in the dataset\n",
    "df2016['starthour'] = list_of_starthours.astype(int)\n",
    "df2016['endhour'] = list_of_stophours.astype(int)\n",
    "df2016['weekday'] = list_of_weekdays.astype(int)"
   ]
  },
  {
   "cell_type": "code",
   "execution_count": 4,
   "metadata": {},
   "outputs": [],
   "source": [
    "#df2016 = pd.read_csv(\"df2016WithAddedColumns.csv\")"
   ]
  },
  {
   "cell_type": "code",
   "execution_count": 5,
   "metadata": {
    "scrolled": true
   },
   "outputs": [
    {
     "data": {
      "text/html": [
       "<div>\n",
       "<style>\n",
       "    .dataframe thead tr:only-child th {\n",
       "        text-align: right;\n",
       "    }\n",
       "\n",
       "    .dataframe thead th {\n",
       "        text-align: left;\n",
       "    }\n",
       "\n",
       "    .dataframe tbody tr th {\n",
       "        vertical-align: top;\n",
       "    }\n",
       "</style>\n",
       "<table border=\"1\" class=\"dataframe\">\n",
       "  <thead>\n",
       "    <tr style=\"text-align: right;\">\n",
       "      <th></th>\n",
       "      <th>Unnamed: 0</th>\n",
       "      <th>tripduration</th>\n",
       "      <th>starttime</th>\n",
       "      <th>stoptime</th>\n",
       "      <th>startstationid</th>\n",
       "      <th>startstationname</th>\n",
       "      <th>startstationlatitude</th>\n",
       "      <th>startstationlongitude</th>\n",
       "      <th>endstationid</th>\n",
       "      <th>endstationname</th>\n",
       "      <th>endstationlatitude</th>\n",
       "      <th>endstationlongitude</th>\n",
       "      <th>bikeid</th>\n",
       "      <th>usertype</th>\n",
       "      <th>birthyear</th>\n",
       "      <th>gender</th>\n",
       "      <th>starthour</th>\n",
       "      <th>endhour</th>\n",
       "      <th>weekday</th>\n",
       "    </tr>\n",
       "  </thead>\n",
       "  <tbody>\n",
       "    <tr>\n",
       "      <th>0</th>\n",
       "      <td>0</td>\n",
       "      <td>923</td>\n",
       "      <td>2016-01-01 00:00:41</td>\n",
       "      <td>2016-01-01 00:16:04</td>\n",
       "      <td>268</td>\n",
       "      <td>Howard St &amp; Centre St</td>\n",
       "      <td>40.719105</td>\n",
       "      <td>-73.999733</td>\n",
       "      <td>3002</td>\n",
       "      <td>South End Ave &amp; Liberty St</td>\n",
       "      <td>40.711512</td>\n",
       "      <td>-74.015756</td>\n",
       "      <td>22285</td>\n",
       "      <td>Subscriber</td>\n",
       "      <td>1958.0</td>\n",
       "      <td>1</td>\n",
       "      <td>0</td>\n",
       "      <td>0</td>\n",
       "      <td>4</td>\n",
       "    </tr>\n",
       "    <tr>\n",
       "      <th>1</th>\n",
       "      <td>1</td>\n",
       "      <td>379</td>\n",
       "      <td>2016-01-01 00:00:45</td>\n",
       "      <td>2016-01-01 00:07:04</td>\n",
       "      <td>476</td>\n",
       "      <td>E 31 St &amp; 3 Ave</td>\n",
       "      <td>40.743943</td>\n",
       "      <td>-73.979661</td>\n",
       "      <td>498</td>\n",
       "      <td>Broadway &amp; W 32 St</td>\n",
       "      <td>40.748549</td>\n",
       "      <td>-73.988084</td>\n",
       "      <td>17827</td>\n",
       "      <td>Subscriber</td>\n",
       "      <td>1969.0</td>\n",
       "      <td>1</td>\n",
       "      <td>0</td>\n",
       "      <td>0</td>\n",
       "      <td>4</td>\n",
       "    </tr>\n",
       "    <tr>\n",
       "      <th>2</th>\n",
       "      <td>2</td>\n",
       "      <td>589</td>\n",
       "      <td>2016-01-01 00:00:48</td>\n",
       "      <td>2016-01-01 00:10:37</td>\n",
       "      <td>489</td>\n",
       "      <td>10 Ave &amp; W 28 St</td>\n",
       "      <td>40.750664</td>\n",
       "      <td>-74.001768</td>\n",
       "      <td>284</td>\n",
       "      <td>Greenwich Ave &amp; 8 Ave</td>\n",
       "      <td>40.739017</td>\n",
       "      <td>-74.002638</td>\n",
       "      <td>21997</td>\n",
       "      <td>Subscriber</td>\n",
       "      <td>1982.0</td>\n",
       "      <td>2</td>\n",
       "      <td>0</td>\n",
       "      <td>0</td>\n",
       "      <td>4</td>\n",
       "    </tr>\n",
       "    <tr>\n",
       "      <th>3</th>\n",
       "      <td>3</td>\n",
       "      <td>889</td>\n",
       "      <td>2016-01-01 00:01:06</td>\n",
       "      <td>2016-01-01 00:15:56</td>\n",
       "      <td>268</td>\n",
       "      <td>Howard St &amp; Centre St</td>\n",
       "      <td>40.719105</td>\n",
       "      <td>-73.999733</td>\n",
       "      <td>3002</td>\n",
       "      <td>South End Ave &amp; Liberty St</td>\n",
       "      <td>40.711512</td>\n",
       "      <td>-74.015756</td>\n",
       "      <td>22794</td>\n",
       "      <td>Subscriber</td>\n",
       "      <td>1961.0</td>\n",
       "      <td>2</td>\n",
       "      <td>0</td>\n",
       "      <td>0</td>\n",
       "      <td>4</td>\n",
       "    </tr>\n",
       "    <tr>\n",
       "      <th>4</th>\n",
       "      <td>4</td>\n",
       "      <td>1480</td>\n",
       "      <td>2016-01-01 00:01:12</td>\n",
       "      <td>2016-01-01 00:25:52</td>\n",
       "      <td>2006</td>\n",
       "      <td>Central Park S &amp; 6 Ave</td>\n",
       "      <td>40.765909</td>\n",
       "      <td>-73.976342</td>\n",
       "      <td>2006</td>\n",
       "      <td>Central Park S &amp; 6 Ave</td>\n",
       "      <td>40.765909</td>\n",
       "      <td>-73.976342</td>\n",
       "      <td>14562</td>\n",
       "      <td>Subscriber</td>\n",
       "      <td>1952.0</td>\n",
       "      <td>1</td>\n",
       "      <td>0</td>\n",
       "      <td>0</td>\n",
       "      <td>4</td>\n",
       "    </tr>\n",
       "  </tbody>\n",
       "</table>\n",
       "</div>"
      ],
      "text/plain": [
       "   Unnamed: 0  tripduration            starttime             stoptime  \\\n",
       "0           0           923  2016-01-01 00:00:41  2016-01-01 00:16:04   \n",
       "1           1           379  2016-01-01 00:00:45  2016-01-01 00:07:04   \n",
       "2           2           589  2016-01-01 00:00:48  2016-01-01 00:10:37   \n",
       "3           3           889  2016-01-01 00:01:06  2016-01-01 00:15:56   \n",
       "4           4          1480  2016-01-01 00:01:12  2016-01-01 00:25:52   \n",
       "\n",
       "   startstationid        startstationname  startstationlatitude  \\\n",
       "0             268   Howard St & Centre St             40.719105   \n",
       "1             476         E 31 St & 3 Ave             40.743943   \n",
       "2             489        10 Ave & W 28 St             40.750664   \n",
       "3             268   Howard St & Centre St             40.719105   \n",
       "4            2006  Central Park S & 6 Ave             40.765909   \n",
       "\n",
       "   startstationlongitude  endstationid              endstationname  \\\n",
       "0             -73.999733          3002  South End Ave & Liberty St   \n",
       "1             -73.979661           498          Broadway & W 32 St   \n",
       "2             -74.001768           284       Greenwich Ave & 8 Ave   \n",
       "3             -73.999733          3002  South End Ave & Liberty St   \n",
       "4             -73.976342          2006      Central Park S & 6 Ave   \n",
       "\n",
       "   endstationlatitude  endstationlongitude  bikeid    usertype  birthyear  \\\n",
       "0           40.711512           -74.015756   22285  Subscriber     1958.0   \n",
       "1           40.748549           -73.988084   17827  Subscriber     1969.0   \n",
       "2           40.739017           -74.002638   21997  Subscriber     1982.0   \n",
       "3           40.711512           -74.015756   22794  Subscriber     1961.0   \n",
       "4           40.765909           -73.976342   14562  Subscriber     1952.0   \n",
       "\n",
       "   gender  starthour  endhour  weekday  \n",
       "0       1          0        0        4  \n",
       "1       1          0        0        4  \n",
       "2       2          0        0        4  \n",
       "3       2          0        0        4  \n",
       "4       1          0        0        4  "
      ]
     },
     "execution_count": 5,
     "metadata": {},
     "output_type": "execute_result"
    }
   ],
   "source": [
    "df2016.head()"
   ]
  },
  {
   "cell_type": "code",
   "execution_count": 6,
   "metadata": {
    "collapsed": true
   },
   "outputs": [],
   "source": [
    "# Makes a dataframe with the count of started trips, sorted by station first, then weekday, then hour\n",
    "d1 = df2016.groupby([df2016['startstationid'], df2016['weekday'], df2016['starthour']])['startstationname'].count().reset_index(name = \"startcount\")\n",
    "d1 = d1.rename(columns={'starthour':'hour','startstationid':'stationid'})\n",
    "\n"
   ]
  },
  {
   "cell_type": "code",
   "execution_count": 7,
   "metadata": {
    "collapsed": true
   },
   "outputs": [],
   "source": [
    "# Makes a dataframe with the count of ended trips, sorted by station first, then weekday, then hour\n",
    "d2 = df2016.groupby([df2016['endstationid'], df2016['weekday'], df2016['endhour']])['endstationname'].count().reset_index(name='stopcount')\n",
    "d2 = d2.rename(columns={'endhour':'hour','endstationid':'stationid'})\n",
    "\n"
   ]
  },
  {
   "cell_type": "code",
   "execution_count": 8,
   "metadata": {
    "collapsed": true
   },
   "outputs": [],
   "source": [
    "# We merge the two dataframes containing startcount and stopcount, and insert a new colum \"taken\" in the dataframe\n",
    "d3 = d1.merge(d2, on = ['stationid', 'hour', 'weekday'])\n",
    "d3['taken'] = d3['stopcount'] - d3['startcount']"
   ]
  },
  {
   "cell_type": "code",
   "execution_count": 9,
   "metadata": {},
   "outputs": [
    {
     "data": {
      "text/html": [
       "<div>\n",
       "<style>\n",
       "    .dataframe thead tr:only-child th {\n",
       "        text-align: right;\n",
       "    }\n",
       "\n",
       "    .dataframe thead th {\n",
       "        text-align: left;\n",
       "    }\n",
       "\n",
       "    .dataframe tbody tr th {\n",
       "        vertical-align: top;\n",
       "    }\n",
       "</style>\n",
       "<table border=\"1\" class=\"dataframe\">\n",
       "  <thead>\n",
       "    <tr style=\"text-align: right;\">\n",
       "      <th></th>\n",
       "      <th>stationid</th>\n",
       "      <th>weekday</th>\n",
       "      <th>hour</th>\n",
       "      <th>startcount</th>\n",
       "      <th>stopcount</th>\n",
       "      <th>taken</th>\n",
       "    </tr>\n",
       "  </thead>\n",
       "  <tbody>\n",
       "    <tr>\n",
       "      <th>0</th>\n",
       "      <td>72</td>\n",
       "      <td>0</td>\n",
       "      <td>0</td>\n",
       "      <td>9</td>\n",
       "      <td>23</td>\n",
       "      <td>14</td>\n",
       "    </tr>\n",
       "    <tr>\n",
       "      <th>1</th>\n",
       "      <td>72</td>\n",
       "      <td>0</td>\n",
       "      <td>1</td>\n",
       "      <td>11</td>\n",
       "      <td>16</td>\n",
       "      <td>5</td>\n",
       "    </tr>\n",
       "    <tr>\n",
       "      <th>2</th>\n",
       "      <td>72</td>\n",
       "      <td>0</td>\n",
       "      <td>2</td>\n",
       "      <td>6</td>\n",
       "      <td>9</td>\n",
       "      <td>3</td>\n",
       "    </tr>\n",
       "    <tr>\n",
       "      <th>3</th>\n",
       "      <td>72</td>\n",
       "      <td>0</td>\n",
       "      <td>4</td>\n",
       "      <td>12</td>\n",
       "      <td>12</td>\n",
       "      <td>0</td>\n",
       "    </tr>\n",
       "    <tr>\n",
       "      <th>4</th>\n",
       "      <td>72</td>\n",
       "      <td>0</td>\n",
       "      <td>5</td>\n",
       "      <td>12</td>\n",
       "      <td>19</td>\n",
       "      <td>7</td>\n",
       "    </tr>\n",
       "  </tbody>\n",
       "</table>\n",
       "</div>"
      ],
      "text/plain": [
       "   stationid  weekday  hour  startcount  stopcount  taken\n",
       "0         72        0     0           9         23     14\n",
       "1         72        0     1          11         16      5\n",
       "2         72        0     2           6          9      3\n",
       "3         72        0     4          12         12      0\n",
       "4         72        0     5          12         19      7"
      ]
     },
     "execution_count": 9,
     "metadata": {},
     "output_type": "execute_result"
    }
   ],
   "source": [
    "d3.head()"
   ]
  },
  {
   "cell_type": "markdown",
   "metadata": {},
   "source": [
    "## Data Prep"
   ]
  },
  {
   "cell_type": "code",
   "execution_count": 10,
   "metadata": {
    "collapsed": true
   },
   "outputs": [],
   "source": [
    "# Defines input features and target values\n",
    "X = d3[d3.columns[0:3]].values\n",
    "y1 = d3[d3.columns[5]].values\n",
    "\n",
    "# Data Prep\n",
    "y = np.array([\"high demand\" if n<0 else \"low demand\" for n in y1])\n",
    "class_idx = {'high demand':1, 'low demand':0}\n",
    "\n",
    "y = np.array([class_idx[v] for v in y])\n",
    "y = np.eye(2)[y]\n",
    "\n",
    "\n",
    "# Shuffles the data\n",
    "random_idx = np.arange(X.shape[0])\n",
    "np.random.seed(0)\n",
    "np.random.shuffle(random_idx)\n",
    "\n",
    "X = X[random_idx]\n",
    "y = y[random_idx]"
   ]
  },
  {
   "cell_type": "code",
   "execution_count": 11,
   "metadata": {
    "collapsed": true
   },
   "outputs": [],
   "source": [
    "# Splits the data up into training and test\n",
    "X_train, X_test, y_train, y_test = train_test_split(X, y, test_size=0.2, random_state=42)"
   ]
  },
  {
   "cell_type": "code",
   "execution_count": 12,
   "metadata": {
    "collapsed": true
   },
   "outputs": [],
   "source": [
    "# Training\n",
    "DT = DecisionTreeClassifier(min_samples_split=13, criterion = \"entropy\")\n",
    "DT.fit(X_train, y_train)\n",
    "predictions = DT.predict(X_test)"
   ]
  },
  {
   "cell_type": "code",
   "execution_count": 13,
   "metadata": {},
   "outputs": [
    {
     "data": {
      "text/plain": [
       "0.75860844870429534"
      ]
     },
     "execution_count": 13,
     "metadata": {},
     "output_type": "execute_result"
    }
   ],
   "source": [
    "# Accuracy \n",
    "true = y_test.argmax(axis=1)\n",
    "correct_preds = np.equal(true, predictions.argmax(axis=1))\n",
    "sum(correct_preds) / len(true)"
   ]
  },
  {
   "cell_type": "code",
   "execution_count": 16,
   "metadata": {},
   "outputs": [
    {
     "data": {
      "text/plain": [
       "0.24286221410822051"
      ]
     },
     "execution_count": 16,
     "metadata": {},
     "output_type": "execute_result"
    }
   ],
   "source": [
    "# Error\n",
    "MSE(X_test, y_test)"
   ]
  },
  {
   "cell_type": "code",
   "execution_count": 25,
   "metadata": {
    "collapsed": true
   },
   "outputs": [],
   "source": [
    "# Creates a JSON file with the decision tree\n",
    "\n",
    "feature_names = ['StationID', 'Weekday', 'Hour']\n",
    "target_names = [\"Unbusy\", \"Busy\"]\n",
    "\n",
    "r = rules(DT, feature_names, target_names)\n",
    "\n",
    "with open('rules6.json', 'w') as f:\n",
    "    f.write(json.dumps(r))"
   ]
  },
  {
   "cell_type": "code",
   "execution_count": 19,
   "metadata": {
    "collapsed": true
   },
   "outputs": [],
   "source": [
    "def rules(clf, features, labels, node_index=0):\n",
    "    \"\"\"Structure of rules in a fit decision tree classifier\n",
    "\n",
    "    Parameters\n",
    "    ----------\n",
    "    clf : DecisionTreeClassifier\n",
    "        A tree that has already been fit.\n",
    "\n",
    "    features, labels : lists of str\n",
    "        The names of the features and labels, respectively.\n",
    "\n",
    "    \"\"\"\n",
    "    node = {}\n",
    "    if clf.tree_.children_left[node_index] == -1:  # indicates leaf\n",
    "        count_labels = zip(clf.tree_.value[node_index, 0], labels)\n",
    "        node['name'] = ', '.join(('{} of {}'.format(int(count), label)\n",
    "                                  for count, label in count_labels))\n",
    "    else:\n",
    "        feature = features[clf.tree_.feature[node_index]]\n",
    "        threshold = clf.tree_.threshold[node_index]\n",
    "        node['name'] = '{} > {}'.format(feature, threshold)\n",
    "        left_index = clf.tree_.children_left[node_index]\n",
    "        right_index = clf.tree_.children_right[node_index]\n",
    "        node['children'] = [rules(clf, features, labels, right_index),\n",
    "                            rules(clf, features, labels, left_index)]\n",
    "    return node"
   ]
  },
  {
   "cell_type": "code",
   "execution_count": 15,
   "metadata": {
    "collapsed": true
   },
   "outputs": [],
   "source": [
    "# Calculates the Mean Squared Error\n",
    "\n",
    "def MSE(X, y):\n",
    "        \n",
    "        # Predict\n",
    "        yhat = DT.predict(X)\n",
    "    \n",
    "        # Calculate MSE\n",
    "        return np.mean((y-yhat)**2) # * 0.5"
   ]
  },
  {
   "cell_type": "code",
   "execution_count": null,
   "metadata": {
    "collapsed": true
   },
   "outputs": [],
   "source": []
  }
 ],
 "metadata": {
  "kernelspec": {
   "display_name": "Python 3",
   "language": "python",
   "name": "python3"
  },
  "language_info": {
   "codemirror_mode": {
    "name": "ipython",
    "version": 3
   },
   "file_extension": ".py",
   "mimetype": "text/x-python",
   "name": "python",
   "nbconvert_exporter": "python",
   "pygments_lexer": "ipython3",
   "version": "3.7.1"
  }
 },
 "nbformat": 4,
 "nbformat_minor": 2
}
