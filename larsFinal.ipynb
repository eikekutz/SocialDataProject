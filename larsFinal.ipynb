{
 "cells": [
  {
   "cell_type": "code",
   "execution_count": 1,
   "metadata": {},
   "outputs": [],
   "source": [
    "import json\n",
    "import urllib.request\n",
    "import pandas as pd\n",
    "import matplotlib.pyplot as plt\n",
    "import numpy as np\n",
    "from matplotlib.colors import ListedColormap\n",
    "import seaborn as sns"
   ]
  },
  {
   "cell_type": "markdown",
   "metadata": {},
   "source": [
    "# Filtering stations on common stations in main dataset and dataset of bike station capacity\n",
    "\n",
    "Because not all the stations in the main dataset is registered with a capacity in the dataset with station information, only the common stations needs to be used for the analysis.\n",
    "\n",
    "### Import and convert dataset with station info from json objects to a pandas dataframe. "
   ]
  },
  {
   "cell_type": "code",
   "execution_count": 2,
   "metadata": {},
   "outputs": [],
   "source": [
    "#Import data from json url. Delete unnecessary columns\n",
    "with urllib.request.urlopen(\"https://feeds.citibikenyc.com/stations/stations.json\") as url:\n",
    "    data = json.loads(url.read().decode())\n",
    "    del data['executionTime']\n",
    "    data = data['stationBeanList']\n",
    "\n",
    "#Add data from json objects to list. Only include necessary fields\n",
    "stations = []\n",
    "for station in data:\n",
    "    stations.append([station['id'], station['stationName'], station['latitude'], station['longitude'], station['totalDocks']])\n",
    "\n",
    "#make dataframe of station info from list derived from json object\n",
    "df1 = pd.DataFrame(stations, columns=[\"id\", \"stationname\", \"lat\", \"long\", \"capacity\"])"
   ]
  },
  {
   "cell_type": "code",
   "execution_count": 3,
   "metadata": {},
   "outputs": [
    {
     "data": {
      "text/html": [
       "<div>\n",
       "<style scoped>\n",
       "    .dataframe tbody tr th:only-of-type {\n",
       "        vertical-align: middle;\n",
       "    }\n",
       "\n",
       "    .dataframe tbody tr th {\n",
       "        vertical-align: top;\n",
       "    }\n",
       "\n",
       "    .dataframe thead th {\n",
       "        text-align: right;\n",
       "    }\n",
       "</style>\n",
       "<table border=\"1\" class=\"dataframe\">\n",
       "  <thead>\n",
       "    <tr style=\"text-align: right;\">\n",
       "      <th></th>\n",
       "      <th>id</th>\n",
       "      <th>stationname</th>\n",
       "      <th>lat</th>\n",
       "      <th>long</th>\n",
       "      <th>capacity</th>\n",
       "    </tr>\n",
       "  </thead>\n",
       "  <tbody>\n",
       "    <tr>\n",
       "      <th>0</th>\n",
       "      <td>168</td>\n",
       "      <td>W 18 St &amp; 6 Ave</td>\n",
       "      <td>40.739713</td>\n",
       "      <td>-73.994564</td>\n",
       "      <td>47</td>\n",
       "    </tr>\n",
       "    <tr>\n",
       "      <th>1</th>\n",
       "      <td>281</td>\n",
       "      <td>Grand Army Plaza &amp; Central Park S</td>\n",
       "      <td>40.764397</td>\n",
       "      <td>-73.973715</td>\n",
       "      <td>66</td>\n",
       "    </tr>\n",
       "    <tr>\n",
       "      <th>2</th>\n",
       "      <td>285</td>\n",
       "      <td>Broadway &amp; E 14 St</td>\n",
       "      <td>40.734546</td>\n",
       "      <td>-73.990741</td>\n",
       "      <td>53</td>\n",
       "    </tr>\n",
       "    <tr>\n",
       "      <th>3</th>\n",
       "      <td>304</td>\n",
       "      <td>Broadway &amp; Battery Pl</td>\n",
       "      <td>40.704633</td>\n",
       "      <td>-74.013617</td>\n",
       "      <td>33</td>\n",
       "    </tr>\n",
       "    <tr>\n",
       "      <th>4</th>\n",
       "      <td>324</td>\n",
       "      <td>DeKalb Ave &amp; Hudson Ave</td>\n",
       "      <td>40.689888</td>\n",
       "      <td>-73.981013</td>\n",
       "      <td>51</td>\n",
       "    </tr>\n",
       "  </tbody>\n",
       "</table>\n",
       "</div>"
      ],
      "text/plain": [
       "    id                        stationname        lat       long  capacity\n",
       "0  168                    W 18 St & 6 Ave  40.739713 -73.994564        47\n",
       "1  281  Grand Army Plaza & Central Park S  40.764397 -73.973715        66\n",
       "2  285                 Broadway & E 14 St  40.734546 -73.990741        53\n",
       "3  304              Broadway & Battery Pl  40.704633 -74.013617        33\n",
       "4  324            DeKalb Ave & Hudson Ave  40.689888 -73.981013        51"
      ]
     },
     "execution_count": 3,
     "metadata": {},
     "output_type": "execute_result"
    }
   ],
   "source": [
    "df1.head()"
   ]
  },
  {
   "cell_type": "markdown",
   "metadata": {},
   "source": [
    "### Import all trip data from 2016-2018"
   ]
  },
  {
   "cell_type": "code",
   "execution_count": 4,
   "metadata": {},
   "outputs": [],
   "source": [
    "def getDataByYear(year):\n",
    "    name=\"\"\n",
    "    df=[]\n",
    "    \n",
    "    for k in range(1,13):\n",
    "        if k<10:\n",
    "            name = str(year)+\"0\"+str(k)\n",
    "        else:\n",
    "            name = str(year)+\"\"+str(k)\n",
    "        name +=\"-citibike-tripdata.csv\"\n",
    "        \n",
    "        df.append(pd.read_csv('data/'+name))\n",
    "        #set columns to lower case\n",
    "        df[k-1].columns = map(str.lower, df[k-1].columns)\n",
    "        #\n",
    "        df[k-1].columns = [x.replace(\" \",\"\") for x in list(df[k-1].columns)]\n",
    "        df[k-1][\"starttime\"] = pd.to_datetime(df[k-1][\"starttime\"], infer_datetime_format=True)\n",
    "        df[k-1][\"stoptime\"] = pd.to_datetime(df[k-1][\"stoptime\"], infer_datetime_format=True)\n",
    "        print(name)\n",
    "\n",
    "    return pd.concat(df,ignore_index=True)"
   ]
  },
  {
   "cell_type": "code",
   "execution_count": 5,
   "metadata": {},
   "outputs": [
    {
     "name": "stdout",
     "output_type": "stream",
     "text": [
      "201601-citibike-tripdata.csv\n",
      "201602-citibike-tripdata.csv\n",
      "201603-citibike-tripdata.csv\n",
      "201604-citibike-tripdata.csv\n",
      "201605-citibike-tripdata.csv\n",
      "201606-citibike-tripdata.csv\n",
      "201607-citibike-tripdata.csv\n",
      "201608-citibike-tripdata.csv\n",
      "201609-citibike-tripdata.csv\n",
      "201610-citibike-tripdata.csv\n",
      "201611-citibike-tripdata.csv\n",
      "201612-citibike-tripdata.csv\n"
     ]
    }
   ],
   "source": [
    "df16 = getDataByYear(2016)"
   ]
  },
  {
   "cell_type": "code",
   "execution_count": 6,
   "metadata": {},
   "outputs": [
    {
     "name": "stdout",
     "output_type": "stream",
     "text": [
      "201701-citibike-tripdata.csv\n",
      "201702-citibike-tripdata.csv\n",
      "201703-citibike-tripdata.csv\n",
      "201704-citibike-tripdata.csv\n",
      "201705-citibike-tripdata.csv\n",
      "201706-citibike-tripdata.csv\n",
      "201707-citibike-tripdata.csv\n",
      "201708-citibike-tripdata.csv\n",
      "201709-citibike-tripdata.csv\n",
      "201710-citibike-tripdata.csv\n",
      "201711-citibike-tripdata.csv\n",
      "201712-citibike-tripdata.csv\n"
     ]
    }
   ],
   "source": [
    "df17 = getDataByYear(2017)"
   ]
  },
  {
   "cell_type": "code",
   "execution_count": 7,
   "metadata": {},
   "outputs": [
    {
     "name": "stdout",
     "output_type": "stream",
     "text": [
      "201801-citibike-tripdata.csv\n",
      "201802-citibike-tripdata.csv\n",
      "201803-citibike-tripdata.csv\n",
      "201804-citibike-tripdata.csv\n",
      "201805-citibike-tripdata.csv\n",
      "201806-citibike-tripdata.csv\n",
      "201807-citibike-tripdata.csv\n",
      "201808-citibike-tripdata.csv\n",
      "201809-citibike-tripdata.csv\n",
      "201810-citibike-tripdata.csv\n",
      "201811-citibike-tripdata.csv\n",
      "201812-citibike-tripdata.csv\n"
     ]
    }
   ],
   "source": [
    "df18 = getDataByYear(2018)"
   ]
  },
  {
   "cell_type": "markdown",
   "metadata": {},
   "source": [
    "### Delete unnecessary columns and change to datetime objects"
   ]
  },
  {
   "cell_type": "code",
   "execution_count": 8,
   "metadata": {},
   "outputs": [],
   "source": [
    "frames = [df16,df17,df18]\n",
    "df=pd.concat(frames)\n",
    "del_cols = ['tripduration', 'startstationname', 'startstationlatitude', 'startstationlongitude', 'endstationname',\n",
    "       'endstationlatitude', 'endstationlongitude', 'usertype', 'birthyear', 'gender', 'bikeid']\n",
    "df = df.drop(del_cols, axis=1)\n",
    "df['startday'] = df['starttime'].dt.dayofweek\n",
    "df['stopday'] = df['stoptime'].dt.dayofweek\n",
    "df['starttime'] = df['starttime'].dt.hour\n",
    "df['stoptime'] = df['stoptime'].dt.hour"
   ]
  },
  {
   "cell_type": "code",
   "execution_count": 9,
   "metadata": {},
   "outputs": [
    {
     "data": {
      "text/html": [
       "<div>\n",
       "<style scoped>\n",
       "    .dataframe tbody tr th:only-of-type {\n",
       "        vertical-align: middle;\n",
       "    }\n",
       "\n",
       "    .dataframe tbody tr th {\n",
       "        vertical-align: top;\n",
       "    }\n",
       "\n",
       "    .dataframe thead th {\n",
       "        text-align: right;\n",
       "    }\n",
       "</style>\n",
       "<table border=\"1\" class=\"dataframe\">\n",
       "  <thead>\n",
       "    <tr style=\"text-align: right;\">\n",
       "      <th></th>\n",
       "      <th>starttime</th>\n",
       "      <th>stoptime</th>\n",
       "      <th>startstationid</th>\n",
       "      <th>endstationid</th>\n",
       "      <th>startday</th>\n",
       "      <th>stopday</th>\n",
       "    </tr>\n",
       "  </thead>\n",
       "  <tbody>\n",
       "    <tr>\n",
       "      <th>0</th>\n",
       "      <td>0</td>\n",
       "      <td>0</td>\n",
       "      <td>268.0</td>\n",
       "      <td>3002.0</td>\n",
       "      <td>4</td>\n",
       "      <td>4</td>\n",
       "    </tr>\n",
       "    <tr>\n",
       "      <th>1</th>\n",
       "      <td>0</td>\n",
       "      <td>0</td>\n",
       "      <td>476.0</td>\n",
       "      <td>498.0</td>\n",
       "      <td>4</td>\n",
       "      <td>4</td>\n",
       "    </tr>\n",
       "    <tr>\n",
       "      <th>2</th>\n",
       "      <td>0</td>\n",
       "      <td>0</td>\n",
       "      <td>489.0</td>\n",
       "      <td>284.0</td>\n",
       "      <td>4</td>\n",
       "      <td>4</td>\n",
       "    </tr>\n",
       "    <tr>\n",
       "      <th>3</th>\n",
       "      <td>0</td>\n",
       "      <td>0</td>\n",
       "      <td>268.0</td>\n",
       "      <td>3002.0</td>\n",
       "      <td>4</td>\n",
       "      <td>4</td>\n",
       "    </tr>\n",
       "    <tr>\n",
       "      <th>4</th>\n",
       "      <td>0</td>\n",
       "      <td>0</td>\n",
       "      <td>2006.0</td>\n",
       "      <td>2006.0</td>\n",
       "      <td>4</td>\n",
       "      <td>4</td>\n",
       "    </tr>\n",
       "  </tbody>\n",
       "</table>\n",
       "</div>"
      ],
      "text/plain": [
       "   starttime  stoptime  startstationid  endstationid  startday  stopday\n",
       "0          0         0           268.0        3002.0         4        4\n",
       "1          0         0           476.0         498.0         4        4\n",
       "2          0         0           489.0         284.0         4        4\n",
       "3          0         0           268.0        3002.0         4        4\n",
       "4          0         0          2006.0        2006.0         4        4"
      ]
     },
     "execution_count": 9,
     "metadata": {},
     "output_type": "execute_result"
    }
   ],
   "source": [
    "df.head()"
   ]
  },
  {
   "cell_type": "markdown",
   "metadata": {},
   "source": [
    "### Find stations that have both incoming and outgoing bikes"
   ]
  },
  {
   "cell_type": "code",
   "execution_count": 11,
   "metadata": {},
   "outputs": [],
   "source": [
    "#Find stations that have both incoming and outgoing bikes\n",
    "df2 = df[['startstationid']].drop_duplicates()\n",
    "df3 = df[['endstationid']].drop_duplicates()\n",
    "df4 = pd.merge(df2,df3, how='inner', left_on='startstationid', right_on='endstationid')\n",
    "df4 = df4[['startstationid']].drop_duplicates().dropna()\n",
    "df4['startstationid'] = df4['startstationid'].apply(lambda x : int(x))\n",
    "df4.columns = ['id']"
   ]
  },
  {
   "cell_type": "code",
   "execution_count": 12,
   "metadata": {},
   "outputs": [
    {
     "data": {
      "text/html": [
       "<div>\n",
       "<style scoped>\n",
       "    .dataframe tbody tr th:only-of-type {\n",
       "        vertical-align: middle;\n",
       "    }\n",
       "\n",
       "    .dataframe tbody tr th {\n",
       "        vertical-align: top;\n",
       "    }\n",
       "\n",
       "    .dataframe thead th {\n",
       "        text-align: right;\n",
       "    }\n",
       "</style>\n",
       "<table border=\"1\" class=\"dataframe\">\n",
       "  <thead>\n",
       "    <tr style=\"text-align: right;\">\n",
       "      <th></th>\n",
       "      <th>id</th>\n",
       "    </tr>\n",
       "  </thead>\n",
       "  <tbody>\n",
       "    <tr>\n",
       "      <th>0</th>\n",
       "      <td>268</td>\n",
       "    </tr>\n",
       "    <tr>\n",
       "      <th>1</th>\n",
       "      <td>476</td>\n",
       "    </tr>\n",
       "    <tr>\n",
       "      <th>2</th>\n",
       "      <td>489</td>\n",
       "    </tr>\n",
       "    <tr>\n",
       "      <th>3</th>\n",
       "      <td>2006</td>\n",
       "    </tr>\n",
       "    <tr>\n",
       "      <th>4</th>\n",
       "      <td>3104</td>\n",
       "    </tr>\n",
       "  </tbody>\n",
       "</table>\n",
       "</div>"
      ],
      "text/plain": [
       "     id\n",
       "0   268\n",
       "1   476\n",
       "2   489\n",
       "3  2006\n",
       "4  3104"
      ]
     },
     "execution_count": 12,
     "metadata": {},
     "output_type": "execute_result"
    }
   ],
   "source": [
    "df4.head()"
   ]
  },
  {
   "cell_type": "markdown",
   "metadata": {},
   "source": [
    "### Find stations that are in both dataset, and merge these"
   ]
  },
  {
   "cell_type": "code",
   "execution_count": 13,
   "metadata": {},
   "outputs": [],
   "source": [
    "df_common_stations = pd.merge(df1, df4, how='inner', on=['id'])\n",
    "df_common_stations.to_csv('common_stations.csv', index=False)\n",
    "df_common_stations = df_common_stations.sort_values(by='id')"
   ]
  },
  {
   "cell_type": "code",
   "execution_count": 14,
   "metadata": {},
   "outputs": [
    {
     "data": {
      "text/html": [
       "<div>\n",
       "<style scoped>\n",
       "    .dataframe tbody tr th:only-of-type {\n",
       "        vertical-align: middle;\n",
       "    }\n",
       "\n",
       "    .dataframe tbody tr th {\n",
       "        vertical-align: top;\n",
       "    }\n",
       "\n",
       "    .dataframe thead th {\n",
       "        text-align: right;\n",
       "    }\n",
       "</style>\n",
       "<table border=\"1\" class=\"dataframe\">\n",
       "  <thead>\n",
       "    <tr style=\"text-align: right;\">\n",
       "      <th></th>\n",
       "      <th>id</th>\n",
       "      <th>stationname</th>\n",
       "      <th>lat</th>\n",
       "      <th>long</th>\n",
       "      <th>capacity</th>\n",
       "    </tr>\n",
       "  </thead>\n",
       "  <tbody>\n",
       "    <tr>\n",
       "      <th>18</th>\n",
       "      <td>72</td>\n",
       "      <td>W 52 St &amp; 11 Ave</td>\n",
       "      <td>40.767272</td>\n",
       "      <td>-73.993929</td>\n",
       "      <td>55</td>\n",
       "    </tr>\n",
       "    <tr>\n",
       "      <th>19</th>\n",
       "      <td>79</td>\n",
       "      <td>Franklin St &amp; W Broadway</td>\n",
       "      <td>40.719116</td>\n",
       "      <td>-74.006667</td>\n",
       "      <td>33</td>\n",
       "    </tr>\n",
       "    <tr>\n",
       "      <th>20</th>\n",
       "      <td>82</td>\n",
       "      <td>St James Pl &amp; Pearl St</td>\n",
       "      <td>40.711174</td>\n",
       "      <td>-74.000165</td>\n",
       "      <td>27</td>\n",
       "    </tr>\n",
       "    <tr>\n",
       "      <th>21</th>\n",
       "      <td>83</td>\n",
       "      <td>Atlantic Ave &amp; Fort Greene Pl</td>\n",
       "      <td>40.683826</td>\n",
       "      <td>-73.976323</td>\n",
       "      <td>62</td>\n",
       "    </tr>\n",
       "    <tr>\n",
       "      <th>22</th>\n",
       "      <td>119</td>\n",
       "      <td>Park Ave &amp; St Edwards St</td>\n",
       "      <td>40.696089</td>\n",
       "      <td>-73.978034</td>\n",
       "      <td>19</td>\n",
       "    </tr>\n",
       "  </tbody>\n",
       "</table>\n",
       "</div>"
      ],
      "text/plain": [
       "     id                    stationname        lat       long  capacity\n",
       "18   72               W 52 St & 11 Ave  40.767272 -73.993929        55\n",
       "19   79       Franklin St & W Broadway  40.719116 -74.006667        33\n",
       "20   82         St James Pl & Pearl St  40.711174 -74.000165        27\n",
       "21   83  Atlantic Ave & Fort Greene Pl  40.683826 -73.976323        62\n",
       "22  119       Park Ave & St Edwards St  40.696089 -73.978034        19"
      ]
     },
     "execution_count": 14,
     "metadata": {},
     "output_type": "execute_result"
    }
   ],
   "source": [
    "df_common_stations.head()"
   ]
  },
  {
   "cell_type": "markdown",
   "metadata": {},
   "source": [
    "### Count bikes in and out for weekdays and hours"
   ]
  },
  {
   "cell_type": "code",
   "execution_count": null,
   "metadata": {},
   "outputs": [],
   "source": [
    "df_start = df[['startstationid', 'startday','starttime']]\n",
    "df_stop = df[['endstationid', 'stopday', 'stoptime']]\n",
    "df_start= pd.DataFrame({'startcount' : df_start.groupby(['startstationid', 'startday', 'starttime']).size()}).reset_index()\n",
    "df_stop = pd.DataFrame({'stopcount' : df_stop.groupby(['endstationid', 'stopday', 'stoptime']).size()}).reset_index()"
   ]
  },
  {
   "cell_type": "code",
   "execution_count": 16,
   "metadata": {},
   "outputs": [
    {
     "data": {
      "text/html": [
       "<div>\n",
       "<style scoped>\n",
       "    .dataframe tbody tr th:only-of-type {\n",
       "        vertical-align: middle;\n",
       "    }\n",
       "\n",
       "    .dataframe tbody tr th {\n",
       "        vertical-align: top;\n",
       "    }\n",
       "\n",
       "    .dataframe thead th {\n",
       "        text-align: right;\n",
       "    }\n",
       "</style>\n",
       "<table border=\"1\" class=\"dataframe\">\n",
       "  <thead>\n",
       "    <tr style=\"text-align: right;\">\n",
       "      <th></th>\n",
       "      <th>startstationid</th>\n",
       "      <th>startday</th>\n",
       "      <th>starttime</th>\n",
       "      <th>startcount</th>\n",
       "    </tr>\n",
       "  </thead>\n",
       "  <tbody>\n",
       "    <tr>\n",
       "      <th>0</th>\n",
       "      <td>72.0</td>\n",
       "      <td>0</td>\n",
       "      <td>0</td>\n",
       "      <td>59</td>\n",
       "    </tr>\n",
       "    <tr>\n",
       "      <th>1</th>\n",
       "      <td>72.0</td>\n",
       "      <td>0</td>\n",
       "      <td>1</td>\n",
       "      <td>54</td>\n",
       "    </tr>\n",
       "    <tr>\n",
       "      <th>2</th>\n",
       "      <td>72.0</td>\n",
       "      <td>0</td>\n",
       "      <td>2</td>\n",
       "      <td>33</td>\n",
       "    </tr>\n",
       "    <tr>\n",
       "      <th>3</th>\n",
       "      <td>72.0</td>\n",
       "      <td>0</td>\n",
       "      <td>3</td>\n",
       "      <td>20</td>\n",
       "    </tr>\n",
       "    <tr>\n",
       "      <th>4</th>\n",
       "      <td>72.0</td>\n",
       "      <td>0</td>\n",
       "      <td>4</td>\n",
       "      <td>47</td>\n",
       "    </tr>\n",
       "  </tbody>\n",
       "</table>\n",
       "</div>"
      ],
      "text/plain": [
       "   startstationid  startday  starttime  startcount\n",
       "0            72.0         0          0          59\n",
       "1            72.0         0          1          54\n",
       "2            72.0         0          2          33\n",
       "3            72.0         0          3          20\n",
       "4            72.0         0          4          47"
      ]
     },
     "execution_count": 16,
     "metadata": {},
     "output_type": "execute_result"
    }
   ],
   "source": [
    "df_start.head()"
   ]
  },
  {
   "cell_type": "code",
   "execution_count": 17,
   "metadata": {},
   "outputs": [
    {
     "data": {
      "text/html": [
       "<div>\n",
       "<style scoped>\n",
       "    .dataframe tbody tr th:only-of-type {\n",
       "        vertical-align: middle;\n",
       "    }\n",
       "\n",
       "    .dataframe tbody tr th {\n",
       "        vertical-align: top;\n",
       "    }\n",
       "\n",
       "    .dataframe thead th {\n",
       "        text-align: right;\n",
       "    }\n",
       "</style>\n",
       "<table border=\"1\" class=\"dataframe\">\n",
       "  <thead>\n",
       "    <tr style=\"text-align: right;\">\n",
       "      <th></th>\n",
       "      <th>endstationid</th>\n",
       "      <th>stopday</th>\n",
       "      <th>stoptime</th>\n",
       "      <th>stopcount</th>\n",
       "    </tr>\n",
       "  </thead>\n",
       "  <tbody>\n",
       "    <tr>\n",
       "      <th>0</th>\n",
       "      <td>72.0</td>\n",
       "      <td>0</td>\n",
       "      <td>0</td>\n",
       "      <td>89</td>\n",
       "    </tr>\n",
       "    <tr>\n",
       "      <th>1</th>\n",
       "      <td>72.0</td>\n",
       "      <td>0</td>\n",
       "      <td>1</td>\n",
       "      <td>46</td>\n",
       "    </tr>\n",
       "    <tr>\n",
       "      <th>2</th>\n",
       "      <td>72.0</td>\n",
       "      <td>0</td>\n",
       "      <td>2</td>\n",
       "      <td>23</td>\n",
       "    </tr>\n",
       "    <tr>\n",
       "      <th>3</th>\n",
       "      <td>72.0</td>\n",
       "      <td>0</td>\n",
       "      <td>3</td>\n",
       "      <td>12</td>\n",
       "    </tr>\n",
       "    <tr>\n",
       "      <th>4</th>\n",
       "      <td>72.0</td>\n",
       "      <td>0</td>\n",
       "      <td>4</td>\n",
       "      <td>18</td>\n",
       "    </tr>\n",
       "  </tbody>\n",
       "</table>\n",
       "</div>"
      ],
      "text/plain": [
       "   endstationid  stopday  stoptime  stopcount\n",
       "0          72.0        0         0         89\n",
       "1          72.0        0         1         46\n",
       "2          72.0        0         2         23\n",
       "3          72.0        0         3         12\n",
       "4          72.0        0         4         18"
      ]
     },
     "execution_count": 17,
     "metadata": {},
     "output_type": "execute_result"
    }
   ],
   "source": [
    "df_stop.head()"
   ]
  },
  {
   "cell_type": "markdown",
   "metadata": {},
   "source": [
    "### Merge in and out data"
   ]
  },
  {
   "cell_type": "code",
   "execution_count": 23,
   "metadata": {},
   "outputs": [],
   "source": [
    "df_count = pd.merge(df_start, df_stop, left_on=['startstationid', 'startday', 'starttime'], \n",
    "                    right_on=['endstationid', 'stopday', 'stoptime'])\n",
    "df_count = df_count.drop(['endstationid', 'stopday', 'stoptime'], axis=1)\n",
    "df_count = df_count.rename(columns={'startstationid': 'id', 'startday': 'weekday','starttime': 'hour'})"
   ]
  },
  {
   "cell_type": "markdown",
   "metadata": {},
   "source": [
    "### Calculate netcount and demand"
   ]
  },
  {
   "cell_type": "code",
   "execution_count": 24,
   "metadata": {},
   "outputs": [],
   "source": [
    "df_count['netcount'] = df_count['stopcount'] - df_count['startcount']\n",
    "#df_count = pd.merge(df_count,df_common_stations[['id','capacity']],on='id', how='left')\n",
    "df_count = pd.merge(df_count, df1[['id','capacity']],on='id', how='left')\n",
    "#drop rows with stations that are not in capacity dataset\n",
    "df_count = df_count[np.isfinite(df_count['capacity'])]\n",
    "\n",
    "#Demand function\n",
    "df_count['demand'] = -(df_count['netcount'])/df_count['capacity']\n",
    "\n",
    "df_count['id'] = df_count['id'].apply(lambda x : int(x))\n",
    "\n",
    "#drop rows with stations that have 0 in capacity\n",
    "df_count = df_count[df_count.capacity != 0]\n",
    "#drop duplicates\n",
    "df_count = df_count.drop_duplicates() "
   ]
  },
  {
   "cell_type": "code",
   "execution_count": 25,
   "metadata": {},
   "outputs": [
    {
     "data": {
      "text/html": [
       "<div>\n",
       "<style scoped>\n",
       "    .dataframe tbody tr th:only-of-type {\n",
       "        vertical-align: middle;\n",
       "    }\n",
       "\n",
       "    .dataframe tbody tr th {\n",
       "        vertical-align: top;\n",
       "    }\n",
       "\n",
       "    .dataframe thead th {\n",
       "        text-align: right;\n",
       "    }\n",
       "</style>\n",
       "<table border=\"1\" class=\"dataframe\">\n",
       "  <thead>\n",
       "    <tr style=\"text-align: right;\">\n",
       "      <th></th>\n",
       "      <th>id</th>\n",
       "      <th>weekday</th>\n",
       "      <th>hour</th>\n",
       "      <th>startcount</th>\n",
       "      <th>stopcount</th>\n",
       "      <th>netcount</th>\n",
       "      <th>capacity</th>\n",
       "      <th>demand</th>\n",
       "    </tr>\n",
       "  </thead>\n",
       "  <tbody>\n",
       "    <tr>\n",
       "      <th>0</th>\n",
       "      <td>72</td>\n",
       "      <td>0</td>\n",
       "      <td>0</td>\n",
       "      <td>59</td>\n",
       "      <td>89</td>\n",
       "      <td>30</td>\n",
       "      <td>55.0</td>\n",
       "      <td>-0.545455</td>\n",
       "    </tr>\n",
       "    <tr>\n",
       "      <th>1</th>\n",
       "      <td>72</td>\n",
       "      <td>0</td>\n",
       "      <td>1</td>\n",
       "      <td>54</td>\n",
       "      <td>46</td>\n",
       "      <td>-8</td>\n",
       "      <td>55.0</td>\n",
       "      <td>0.145455</td>\n",
       "    </tr>\n",
       "    <tr>\n",
       "      <th>2</th>\n",
       "      <td>72</td>\n",
       "      <td>0</td>\n",
       "      <td>2</td>\n",
       "      <td>33</td>\n",
       "      <td>23</td>\n",
       "      <td>-10</td>\n",
       "      <td>55.0</td>\n",
       "      <td>0.181818</td>\n",
       "    </tr>\n",
       "    <tr>\n",
       "      <th>3</th>\n",
       "      <td>72</td>\n",
       "      <td>0</td>\n",
       "      <td>3</td>\n",
       "      <td>20</td>\n",
       "      <td>12</td>\n",
       "      <td>-8</td>\n",
       "      <td>55.0</td>\n",
       "      <td>0.145455</td>\n",
       "    </tr>\n",
       "    <tr>\n",
       "      <th>4</th>\n",
       "      <td>72</td>\n",
       "      <td>0</td>\n",
       "      <td>4</td>\n",
       "      <td>47</td>\n",
       "      <td>18</td>\n",
       "      <td>-29</td>\n",
       "      <td>55.0</td>\n",
       "      <td>0.527273</td>\n",
       "    </tr>\n",
       "  </tbody>\n",
       "</table>\n",
       "</div>"
      ],
      "text/plain": [
       "   id  weekday  hour  startcount  stopcount  netcount  capacity    demand\n",
       "0  72        0     0          59         89        30      55.0 -0.545455\n",
       "1  72        0     1          54         46        -8      55.0  0.145455\n",
       "2  72        0     2          33         23       -10      55.0  0.181818\n",
       "3  72        0     3          20         12        -8      55.0  0.145455\n",
       "4  72        0     4          47         18       -29      55.0  0.527273"
      ]
     },
     "execution_count": 25,
     "metadata": {},
     "output_type": "execute_result"
    }
   ],
   "source": [
    "df_count.head()"
   ]
  },
  {
   "cell_type": "markdown",
   "metadata": {},
   "source": [
    "### Save filtered data to csv"
   ]
  },
  {
   "cell_type": "code",
   "execution_count": 26,
   "metadata": {},
   "outputs": [],
   "source": [
    "#make csv of capacity\n",
    "df_count.to_csv('capacity1.csv', index=False)"
   ]
  },
  {
   "cell_type": "code",
   "execution_count": null,
   "metadata": {},
   "outputs": [],
   "source": []
  }
 ],
 "metadata": {
  "kernelspec": {
   "display_name": "Python 3",
   "language": "python",
   "name": "python3"
  },
  "language_info": {
   "codemirror_mode": {
    "name": "ipython",
    "version": 3
   },
   "file_extension": ".py",
   "mimetype": "text/x-python",
   "name": "python",
   "nbconvert_exporter": "python",
   "pygments_lexer": "ipython3",
   "version": "3.7.1"
  }
 },
 "nbformat": 4,
 "nbformat_minor": 2
}
